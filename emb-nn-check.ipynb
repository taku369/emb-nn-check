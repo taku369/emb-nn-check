{
 "cells": [
  {
   "cell_type": "code",
   "execution_count": 1,
   "metadata": {},
   "outputs": [],
   "source": [
    "import numpy as np"
   ]
  },
  {
   "cell_type": "markdown",
   "metadata": {},
   "source": [
    "アイテムベクトル: v"
   ]
  },
  {
   "cell_type": "code",
   "execution_count": 2,
   "metadata": {},
   "outputs": [
    {
     "name": "stdout",
     "output_type": "stream",
     "text": [
      "[-0.32799869  0.08148253  0.42089643 -0.06586     0.93826168  0.31019688\n",
      " -1.18975645 -0.30392449 -0.58966348  0.00761685]\n"
     ]
    }
   ],
   "source": [
    "v_a = np.random.randn(10)\n",
    "print(v_a)"
   ]
  },
  {
   "cell_type": "code",
   "execution_count": 3,
   "metadata": {},
   "outputs": [
    {
     "data": {
      "text/plain": [
       "array([ 0.74850507, -1.28931949,  0.5912717 , -1.07119258, -1.42616205,\n",
       "        1.44267102,  0.92654316, -0.10018496,  1.56592994, -0.38605986])"
      ]
     },
     "execution_count": 3,
     "metadata": {},
     "output_type": "execute_result"
    }
   ],
   "source": [
    "v_b = np.random.randn(10)\n",
    "v_b"
   ]
  },
  {
   "cell_type": "code",
   "execution_count": 4,
   "metadata": {},
   "outputs": [
    {
     "data": {
      "text/plain": [
       "array([-1.9318801 , -0.48900488, -0.74491951, -0.3325506 ,  0.40199032,\n",
       "       -1.37007984, -0.03328654, -1.42826342,  2.33481285, -0.18652662])"
      ]
     },
     "execution_count": 4,
     "metadata": {},
     "output_type": "execute_result"
    }
   ],
   "source": [
    "v_c = np.random.randn(10)\n",
    "v_c"
   ]
  },
  {
   "cell_type": "markdown",
   "metadata": {},
   "source": [
    "```\n",
    "\n",
    "\n",
    "```\n",
    "\n",
    "各アイテムに対して以下のようなカテゴリベクトルuを考える\n",
    "\n",
    "カテゴリ数C>=2のとき、要素数Cで\n",
    "1 <= i <= Cに対して\n",
    "```\n",
    "u_i | = K (アイテムのカテゴリがc_i)\n",
    "    | = -1 (otherwise)\n",
    "```\n",
    "  \n",
    "**ここでKはK > (C - 1) / 2を満たすものとする**"
   ]
  },
  {
   "cell_type": "code",
   "execution_count": 5,
   "metadata": {},
   "outputs": [],
   "source": [
    "C = 3\n",
    "u_a = np.array([-1] * C)\n",
    "u_b = np.array([-1] * C)\n",
    "u_c = np.array([-1] * C)\n",
    "\n",
    "# アイテムa,bのカテゴリはc_0、アイテムcのカテゴリはc_1とする\n",
    "import math\n",
    "K = math.ceil((C - 1) / 2) + 1  # -2K + C - 1 > 0の条件がいる\n",
    "u_a[0] = K\n",
    "u_b[0] = K\n",
    "u_c[1] = K"
   ]
  },
  {
   "cell_type": "markdown",
   "metadata": {},
   "source": [
    "```\n",
    "\n",
    "\n",
    "\n",
    "```\n",
    "各アイテムベクトルvに対してアイテムベクトルuに|v|をかけたものをconcat"
   ]
  },
  {
   "cell_type": "code",
   "execution_count": 6,
   "metadata": {},
   "outputs": [
    {
     "data": {
      "text/plain": [
       "array([-0.32799869,  0.08148253,  0.42089643, -0.06586   ,  0.93826168,\n",
       "        0.31019688, -1.18975645, -0.30392449, -0.58966348,  0.00761685,\n",
       "        3.53718674, -1.76859337, -1.76859337])"
      ]
     },
     "execution_count": 6,
     "metadata": {},
     "output_type": "execute_result"
    }
   ],
   "source": [
    "x_a = np.concatenate([v_a, np.linalg.norm(v_a) * u_a])\n",
    "x_a"
   ]
  },
  {
   "cell_type": "code",
   "execution_count": 7,
   "metadata": {},
   "outputs": [
    {
     "data": {
      "text/plain": [
       "array([ 0.74850507, -1.28931949,  0.5912717 , -1.07119258, -1.42616205,\n",
       "        1.44267102,  0.92654316, -0.10018496,  1.56592994, -0.38605986,\n",
       "        6.72446169, -3.36223084, -3.36223084])"
      ]
     },
     "execution_count": 7,
     "metadata": {},
     "output_type": "execute_result"
    }
   ],
   "source": [
    "x_b = np.concatenate([v_b,  np.linalg.norm(v_b) * u_b])\n",
    "x_b"
   ]
  },
  {
   "cell_type": "code",
   "execution_count": 8,
   "metadata": {},
   "outputs": [
    {
     "data": {
      "text/plain": [
       "array([-1.9318801 , -0.48900488, -0.74491951, -0.3325506 ,  0.40199032,\n",
       "       -1.37007984, -0.03328654, -1.42826342,  2.33481285, -0.18652662,\n",
       "       -3.76864486,  7.53728973, -3.76864486])"
      ]
     },
     "execution_count": 8,
     "metadata": {},
     "output_type": "execute_result"
    }
   ],
   "source": [
    "x_c = np.concatenate([v_c,  np.linalg.norm(v_c) * u_c])\n",
    "x_c"
   ]
  },
  {
   "cell_type": "markdown",
   "metadata": {},
   "source": [
    "```\n",
    "\n",
    "\n",
    "```\n",
    "このとき、x_1、x_2が同カテゴリであれば\n",
    "\n",
    "\n",
    "$$\n",
    "\\begin{align}\n",
    "cos\\_sim(x_1, x_2) &= \\frac{x_1 \\cdot x_2}{|x_1||x_2|} \\\\\n",
    "&= \\frac{v_1 \\cdot v_2 + |v_1||v_2| u_1 \\cdot u_2}{|x_1||x_2|} \\\\\n",
    "&= \\frac{v_1 \\cdot v_2 + |v_1||v_2|(K^2 + C - 1)}{|x_1||x_2|} \\\\\n",
    "&> \\frac{v_1 \\cdot v_2 + |v_1||v_2|}{|x_1||x_2|} \\quad (1) \\\\ \n",
    "&>= \\frac{-|v_1 \\cdot v_2| + |v_1||v_2|}{|x_1||x_2|} \\\\ \n",
    "&>0 \\quad (2)\n",
    "\\end{align}\n",
    "$$\n",
    "\n",
    "+ (1) C >=2よりK^2 + C - 1 > 1\n",
    "+ (2) シュワルツの不等式\n",
    "\n",
    "このとき、x_1、x_2が異なるカテゴリであれば\n",
    "$$\n",
    "\\begin{align}\n",
    "cos\\_sim(x_1, x_2) &= \\frac{x_1 \\cdot x_2}{|x_1||x_2|} \\\\\n",
    "&= \\frac{v_1 \\cdot v_2 + |v_1||v_2| u_1 \\cdot u_2}{|x_1||x_2|} \\\\\n",
    "&= \\frac{v_1 \\cdot v_2 + |v_1||v_2|(-2K + C - 2)}{|x_1||x_2|} \\\\\n",
    "&<= \\frac{|v_1||v_2| + |v_1||v_2|(-2K + C - 2)}{|x_1||x_2|} \\quad (3) \\\\ \n",
    "&= \\frac{|v_1||v_2|(-2K + C - 1)}{|x_1||x_2|} \\\\\n",
    "&<0 \\quad (4)\n",
    "\\end{align}\n",
    "$$\n",
    "\n",
    "+ (3) シュワルツの不等式\n",
    "+ (4) Kの条件\n",
    "\n",
    "またv_1, v_2, v_3が同カテゴリで\n",
    "$$\n",
    "cos\\_sim(v_1, v_2) > cos\\_sim(v_1, v_3)\n",
    "$$\n",
    "すなわち\n",
    "$$\n",
    "\\frac{v_1 \\cdot v_2}{|v_1||v_2|} > \\frac{v_1 \\cdot v_3}{|v_1||v_3|}\n",
    "$$\n",
    "のとき、共通のカテゴリベクトルをuとすると\n",
    "\n",
    "$$\n",
    "\\begin{align}\n",
    "cos\\_sim(x_1, x_2) - cos\\_sim(x_1, x_3)\n",
    "&= \\frac{x_1 \\cdot x_2}{|x_1||x_2|} - \\frac{x_1 \\cdot x_3}{|x_1||x_3|} \\\\\n",
    "&= \\left ( v_1 \\cdot v_2 + |v_1||v_2||u|^2 \\right ) / \\left ( \\sqrt{|v_1|^2 + |v_1|^2|u|^2}\\sqrt{|v_2|^2 + |v_2|^2|u|^2} \\right )\n",
    " - \\left ( v_1 \\cdot v_3 + |v_1||v_3||u|^2 \\right ) / \\left ( \\sqrt{|v_1|^2 + |v_1|^2|u|^2}\\sqrt{|v_3|^2 + |v_3|^2|u|^2} \\right ) \\\\\n",
    "&=  \\left ( \\frac{v_1 \\cdot v_2}{|v_1||v_2|} + |u|^2 \\right ) / \\left ( \\sqrt{1 + |u|^2}\\sqrt{1 + |u|^2} \\right )\n",
    " -  \\left ( \\frac{v_1 \\cdot v_3}{|v_1||v_3|} + |u|^2 \\right ) / \\left ( \\sqrt{1 + |u|^2}\\sqrt{1 + |u|^2} \\right ) \\\\\n",
    "&= \\left ( \\frac{v_1 \\cdot v_2}{|v_1||v_2|} - \\frac{v_1 \\cdot v_3}{|v_1||v_3|} \\right ) / \\left ( 2\\sqrt{1 + |u|^2} \\right ) \\\\\n",
    "&> 0\n",
    "\\end{align}\n",
    "$$\n",
    "\n",
    "なので大小関係は変わらない"
   ]
  },
  {
   "cell_type": "code",
   "execution_count": 9,
   "metadata": {},
   "outputs": [],
   "source": [
    "def cos_sim(v1, v2):\n",
    "    return np.dot(v1, v2) / (np.linalg.norm(v1) * np.linalg.norm(v2))"
   ]
  },
  {
   "cell_type": "code",
   "execution_count": 10,
   "metadata": {},
   "outputs": [
    {
     "data": {
      "text/plain": [
       "0.7869931191099709"
      ]
     },
     "execution_count": 10,
     "metadata": {},
     "output_type": "execute_result"
    }
   ],
   "source": [
    "cos_sim(x_a, x_b)"
   ]
  },
  {
   "cell_type": "code",
   "execution_count": 11,
   "metadata": {},
   "outputs": [
    {
     "data": {
      "text/plain": [
       "-0.4241657465783454"
      ]
     },
     "execution_count": 11,
     "metadata": {},
     "output_type": "execute_result"
    }
   ],
   "source": [
    "cos_sim(x_b, x_c)"
   ]
  },
  {
   "cell_type": "code",
   "execution_count": 12,
   "metadata": {},
   "outputs": [
    {
     "data": {
      "text/plain": [
       "-0.44250592094915764"
      ]
     },
     "execution_count": 12,
     "metadata": {},
     "output_type": "execute_result"
    }
   ],
   "source": [
    "cos_sim(x_c, x_a)"
   ]
  },
  {
   "cell_type": "code",
   "execution_count": 13,
   "metadata": {},
   "outputs": [
    {
     "data": {
      "text/plain": [
       "-0.49104816623020353"
      ]
     },
     "execution_count": 13,
     "metadata": {},
     "output_type": "execute_result"
    }
   ],
   "source": [
    "cos_sim(v_a, v_b)"
   ]
  },
  {
   "cell_type": "code",
   "execution_count": 14,
   "metadata": {},
   "outputs": [],
   "source": [
    "# 同カテゴリシミュレーション\n",
    "for _ in range(10000):\n",
    "    v_a = np.random.randn(128)\n",
    "    v_b = np.random.randn(128)\n",
    "    v_c = np.random.randn(128)\n",
    "    C = 30\n",
    "    u_a = np.array([-1] * C)\n",
    "    u_b = np.array([-1] * C)\n",
    "    u_c = np.array([-1] * C)\n",
    "    K = math.ceil((C - 1) / 2) + 1  # -2K + C - 1 > 0の条件がいる\n",
    "    u_a[0] = K\n",
    "    u_b[0] = K\n",
    "    u_c[0] = K\n",
    "    x_a = np.concatenate([v_a, np.linalg.norm(v_a) * u_a])\n",
    "    x_b = np.concatenate([v_b,  np.linalg.norm(v_b) * u_b])\n",
    "    x_c = np.concatenate([v_c,  np.linalg.norm(v_c) * u_c])\n",
    "    assert cos_sim(x_a, x_b) > 0\n",
    "    assert cos_sim(x_b, x_c) > 0\n",
    "    assert cos_sim(x_c, x_a) > 0\n",
    "    assert (cos_sim(x_a, x_b) > cos_sim(x_b, x_c)) == (cos_sim(v_a, v_b) > cos_sim(v_b, v_c))"
   ]
  },
  {
   "cell_type": "code",
   "execution_count": 15,
   "metadata": {},
   "outputs": [],
   "source": [
    "# 異なるカテゴリシミュレーション\n",
    "for _ in range(10000):\n",
    "    v_a = np.random.randn(128)\n",
    "    v_b = np.random.randn(128)\n",
    "    C = 30\n",
    "    u_a = np.array([-1] * C)\n",
    "    u_b = np.array([-1] * C)\n",
    "    K = math.ceil((C - 1) / 2) + 1  # -2K + C - 1 > 0の条件がいる\n",
    "    u_a[0] = K\n",
    "    u_b[1] = K\n",
    "    x_a = np.concatenate([v_a, np.linalg.norm(v_a) * u_a])\n",
    "    x_b = np.concatenate([v_b,  np.linalg.norm(v_b) * u_b])\n",
    "    assert cos_sim(x_a, x_b) < 0"
   ]
  },
  {
   "cell_type": "code",
   "execution_count": null,
   "metadata": {},
   "outputs": [],
   "source": []
  }
 ],
 "metadata": {
  "kernelspec": {
   "display_name": "Python 3",
   "language": "python",
   "name": "python3"
  },
  "language_info": {
   "codemirror_mode": {
    "name": "ipython",
    "version": 3
   },
   "file_extension": ".py",
   "mimetype": "text/x-python",
   "name": "python",
   "nbconvert_exporter": "python",
   "pygments_lexer": "ipython3",
   "version": "3.8.7"
  }
 },
 "nbformat": 4,
 "nbformat_minor": 4
}
